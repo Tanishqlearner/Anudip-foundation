{
 "cells": [
  {
   "cell_type": "code",
   "execution_count": 5,
   "metadata": {},
   "outputs": [
    {
     "name": "stdout",
     "output_type": "stream",
     "text": [
      "[10 30 25 43 21]\n"
     ]
    }
   ],
   "source": [
    "import numpy as np\n",
    "l=[10,30,25,43,21]\n",
    "arr=np.array(l)\n",
    "print(arr)"
   ]
  },
  {
   "cell_type": "markdown",
   "metadata": {},
   "source": []
  },
  {
   "cell_type": "code",
   "execution_count": 11,
   "metadata": {},
   "outputs": [
    {
     "name": "stdout",
     "output_type": "stream",
     "text": [
      "a array 42\n",
      "b array [1 2 2 3 4]\n",
      "c array [[1 2 3]\n",
      " [4 5 6]\n",
      " [7 8 9]]\n",
      "d array [[[ 1  2  3]\n",
      "  [ 4  5  6]]\n",
      "\n",
      " [[ 7  8  9]\n",
      "  [10 11 12]]]\n",
      "a array dime 0\n",
      "b array dime 1\n",
      "c array dime 2\n",
      "d array dime 3\n"
     ]
    }
   ],
   "source": [
    "import numpy as np\n",
    "a=np.array(42)\n",
    "b=np.array([1,2,2,3,4])\n",
    "c= np.array([[1, 2, 3], [4, 5, 6], [7, 8, 9]])\n",
    "d=np.array([[[1, 2, 3], [4, 5, 6]], [[7, 8, 9], [10, 11, 12]]])\n",
    "\n",
    "\n",
    "\n",
    "print(\"a array\",a)\n",
    "print(\"b array\",b)\n",
    "print(\"c array\",c)\n",
    "print(\"d array\",d)\n",
    "\n",
    "print(\"a array dime\",a.ndim)\n",
    "print(\"b array dime\",b.ndim)\n",
    "print(\"c array dime\",c.ndim)\n",
    "print(\"d array dime\",d.ndim)\n"
   ]
  },
  {
   "cell_type": "code",
   "execution_count": 18,
   "metadata": {},
   "outputs": [
    {
     "name": "stdout",
     "output_type": "stream",
     "text": [
      "[1 2 3 4 5 6 7]\n",
      "[2 3 4 5]\n",
      "[  2   3 100   5]\n",
      "[  1   2   3 100   5   6   7]\n"
     ]
    }
   ],
   "source": [
    "import numpy as np\n",
    "arr=np.array([1,2,3,4,5,6,7])\n",
    "sarr=arr[1:5]\n",
    "print(arr)\n",
    "print(sarr)\n",
    "sarr[2]=100\n",
    "print(sarr)\n",
    "print(arr)"
   ]
  },
  {
   "cell_type": "code",
   "execution_count": 20,
   "metadata": {},
   "outputs": [],
   "source": [
    "#1. 1D array-vector\n",
    "#2. 2D array-matrix\n",
    "#3. 3D array-tensor"
   ]
  },
  {
   "cell_type": "code",
   "execution_count": 22,
   "metadata": {},
   "outputs": [
    {
     "name": "stdout",
     "output_type": "stream",
     "text": [
      "[42  2  3  4  5]\n",
      "[1 2 3 4 5]\n"
     ]
    }
   ],
   "source": [
    "import numpy as np\n",
    "arr=np.array([1,2,3,4,5])\n",
    "x=arr.copy()\n",
    "arr[0]=42\n",
    "print(arr)\n",
    "print(x)"
   ]
  },
  {
   "cell_type": "code",
   "execution_count": 23,
   "metadata": {},
   "outputs": [],
   "source": [
    "#The copy owns the data and any changes made to the copy will not affect original array, and any changes made to the original array will not affect the copy.\n",
    "\n",
    "#The view does not own the data and any changes made to the view will affect the original array, and any changes made to the original array will affect the view."
   ]
  },
  {
   "cell_type": "code",
   "execution_count": 24,
   "metadata": {},
   "outputs": [
    {
     "name": "stdout",
     "output_type": "stream",
     "text": [
      "[42  2  3  4  5]\n",
      "[42  2  3  4  5]\n"
     ]
    }
   ],
   "source": [
    "import numpy as np\n",
    "arr=np.array([1,2,3,4,5])\n",
    "x=arr.view()\n",
    "arr[0]=42\n",
    "print(arr)\n",
    "print(x)"
   ]
  },
  {
   "cell_type": "code",
   "execution_count": 29,
   "metadata": {},
   "outputs": [
    {
     "name": "stdout",
     "output_type": "stream",
     "text": [
      "[[0. 0.]\n",
      " [0. 0.]\n",
      " [0. 0.]\n",
      " [0. 0.]\n",
      " [0. 0.]\n",
      " [0. 0.]]\n"
     ]
    }
   ],
   "source": [
    "import numpy as np\n",
    "a=np.zeros((6,2))\n",
    "print(a)\n",
    "\n"
   ]
  },
  {
   "cell_type": "code",
   "execution_count": 30,
   "metadata": {},
   "outputs": [],
   "source": [
    "#numpy.zeros() in Python\n",
    "#The numpy.zeros() function is one of the most significant functions which is used in machine learning programs widely. This function is used to  generate an array containing zeros.\n",
    "#The numpy.zeros() function provide a new array of given shape and type, which is filled with zeros."
   ]
  },
  {
   "cell_type": "code",
   "execution_count": 32,
   "metadata": {},
   "outputs": [
    {
     "name": "stdout",
     "output_type": "stream",
     "text": [
      "[0 0 0 0 0 0]\n"
     ]
    }
   ],
   "source": [
    "#numpy.zeros() without order\n",
    "import numpy as np\n",
    "a=np.zeros((6,),dtype=int)\n",
    "print(a)"
   ]
  },
  {
   "cell_type": "code",
   "execution_count": null,
   "metadata": {},
   "outputs": [],
   "source": [
    "\n",
    "#The NumPy ones() function in Python is used to create an array of the specified shape and type, where all the elements are set to 1. This function is very similar to zeros(). The ones () function takes three arguments and returns the array filled with value 1. In this article, I will explain how to use the NumPy ones() function with examples."
   ]
  },
  {
   "cell_type": "code",
   "execution_count": 33,
   "metadata": {},
   "outputs": [
    {
     "name": "stdout",
     "output_type": "stream",
     "text": [
      "[[1. 1.]\n",
      " [1. 1.]\n",
      " [1. 1.]\n",
      " [1. 1.]\n",
      " [1. 1.]\n",
      " [1. 1.]]\n"
     ]
    }
   ],
   "source": [
    "import numpy as np\n",
    "a=np.ones((6,2))\n",
    "print(a)\n"
   ]
  },
  {
   "cell_type": "code",
   "execution_count": 35,
   "metadata": {},
   "outputs": [
    {
     "name": "stdout",
     "output_type": "stream",
     "text": [
      "[[10. 10.]\n",
      " [10. 10.]\n",
      " [10. 10.]\n",
      " [10. 10.]\n",
      " [10. 10.]\n",
      " [10. 10.]]\n"
     ]
    }
   ],
   "source": [
    "import numpy as np\n",
    "a=np.ones((6,2)) * 10\n",
    "print(a)\n"
   ]
  },
  {
   "cell_type": "code",
   "execution_count": 37,
   "metadata": {},
   "outputs": [
    {
     "name": "stdout",
     "output_type": "stream",
     "text": [
      "[1 1 1 1 1]\n"
     ]
    }
   ],
   "source": [
    "import numpy as np\n",
    "a=np.ones(5,dtype=int)\n",
    "print(a)\n"
   ]
  },
  {
   "cell_type": "code",
   "execution_count": 38,
   "metadata": {},
   "outputs": [
    {
     "name": "stdout",
     "output_type": "stream",
     "text": [
      "[1 1 1 1 1 1]\n"
     ]
    }
   ],
   "source": [
    "import numpy as np\n",
    "a=np.ones((6),dtype=int)\n",
    "print(a)"
   ]
  },
  {
   "cell_type": "code",
   "execution_count": 39,
   "metadata": {},
   "outputs": [
    {
     "name": "stdout",
     "output_type": "stream",
     "text": [
      "[[1. 1. 1. 1.]\n",
      " [1. 1. 1. 1.]\n",
      " [1. 1. 1. 1.]]\n"
     ]
    }
   ],
   "source": [
    "import numpy as np\n",
    "a=np.ones((3,4))\n",
    "print(a)"
   ]
  },
  {
   "cell_type": "code",
   "execution_count": 43,
   "metadata": {},
   "outputs": [],
   "source": [
    "\n",
    "#The eye tool returns a 2-D array with 1's as the diagonal and 0's elsewhere. The diagonal can be main, upper, or lower depending on the optional parameter k. A positive k is for the upper diagonal, a negative k is for the lower, and a Øk (default) is for the main diagonal."
   ]
  },
  {
   "cell_type": "code",
   "execution_count": 42,
   "metadata": {},
   "outputs": [
    {
     "name": "stdout",
     "output_type": "stream",
     "text": [
      "[[1. 0. 0. 0. 0. 0. 0.]\n",
      " [0. 1. 0. 0. 0. 0. 0.]\n",
      " [0. 0. 1. 0. 0. 0. 0.]\n",
      " [0. 0. 0. 1. 0. 0. 0.]\n",
      " [0. 0. 0. 0. 1. 0. 0.]\n",
      " [0. 0. 0. 0. 0. 1. 0.]\n",
      " [0. 0. 0. 0. 0. 0. 1.]]\n"
     ]
    }
   ],
   "source": [
    "import numpy as np\n",
    "arr4=np.eye(7)\n",
    "print(arr4)"
   ]
  },
  {
   "cell_type": "code",
   "execution_count": null,
   "metadata": {},
   "outputs": [],
   "source": [
    "#DIAGONAL"
   ]
  },
  {
   "cell_type": "code",
   "execution_count": 45,
   "metadata": {},
   "outputs": [
    {
     "name": "stdout",
     "output_type": "stream",
     "text": [
      "[[3 0 0 0]\n",
      " [0 4 0 0]\n",
      " [0 0 1 0]\n",
      " [0 0 0 6]]\n",
      "2\n",
      "(4, 4)\n"
     ]
    }
   ],
   "source": [
    "import numpy as np\n",
    "arr=np.diag((3,4,1,6))\n",
    "print(arr)\n",
    "print(arr.ndim)\n",
    "print(arr.shape)"
   ]
  },
  {
   "cell_type": "code",
   "execution_count": null,
   "metadata": {},
   "outputs": [],
   "source": [
    "#25 july 2024"
   ]
  },
  {
   "cell_type": "code",
   "execution_count": 3,
   "metadata": {},
   "outputs": [
    {
     "name": "stdout",
     "output_type": "stream",
     "text": [
      "[1 5 6]\n",
      "[[3 0 0]\n",
      " [0 9 0]\n",
      " [0 0 5]]\n"
     ]
    }
   ],
   "source": [
    "import numpy as np\n",
    "arr=np.array([[1,2,3],[4,5,6],[1,3,6]])\n",
    "print(np.diag(arr))\n",
    "print(np.diag((3,9,5)))"
   ]
  },
  {
   "cell_type": "markdown",
   "metadata": {},
   "source": []
  },
  {
   "cell_type": "code",
   "execution_count": 4,
   "metadata": {},
   "outputs": [
    {
     "name": "stdout",
     "output_type": "stream",
     "text": [
      "[2 4]\n"
     ]
    }
   ],
   "source": [
    "import numpy as np\n",
    "arr=np.array([1,2,3,4,5,6,7])\n",
    "print(arr[1:5:2])"
   ]
  },
  {
   "cell_type": "code",
   "execution_count": 5,
   "metadata": {},
   "outputs": [],
   "source": [
    "#randint() is an inbuilt function of the randon module in Python3. The random module gives access to various useful functions one of them being able to generate random numbers, which is randint()\n",
    "\n",
    "#This function generates an array of specified shape and fills it with random samples from a unifors distribution over the interval [0, 1).\n",
    "\n"
   ]
  },
  {
   "cell_type": "code",
   "execution_count": 6,
   "metadata": {},
   "outputs": [
    {
     "name": "stdout",
     "output_type": "stream",
     "text": [
      "[0.07088015 0.95444715 0.91821993 0.54069593]\n"
     ]
    }
   ],
   "source": [
    "import numpy as np\n",
    "rand=np.random.rand(4)\n",
    "print(rand)"
   ]
  },
  {
   "cell_type": "code",
   "execution_count": 7,
   "metadata": {},
   "outputs": [
    {
     "name": "stdout",
     "output_type": "stream",
     "text": [
      "[[0.29451856 0.94787195 0.58640245]\n",
      " [0.13828334 0.20954036 0.67617196]]\n"
     ]
    }
   ],
   "source": [
    "import numpy as np\n",
    "rand=np.random.rand(2,3)\n",
    "print(rand)"
   ]
  },
  {
   "cell_type": "code",
   "execution_count": 8,
   "metadata": {},
   "outputs": [
    {
     "name": "stdout",
     "output_type": "stream",
     "text": [
      "[17 79 51 78 33 24 88 49 99 14 81 59]\n"
     ]
    }
   ],
   "source": [
    "import numpy as np\n",
    "arr=np.random.randint(0,100,12)\n",
    "print(arr)"
   ]
  },
  {
   "cell_type": "code",
   "execution_count": 10,
   "metadata": {},
   "outputs": [
    {
     "name": "stdout",
     "output_type": "stream",
     "text": [
      "[ 1  2  3  4  5 50]\n",
      "[[ 1  2]\n",
      " [ 3  4]\n",
      " [ 5 50]]\n"
     ]
    }
   ],
   "source": [
    "import numpy as np \n",
    "arr=np.array([1,2,3,4,5,50])\n",
    "print(arr)\n",
    "arr2=arr.reshape(3,2)\n",
    "print(arr2)"
   ]
  },
  {
   "cell_type": "code",
   "execution_count": 14,
   "metadata": {},
   "outputs": [],
   "source": [
    "#The reshape Function in Rusly allows you to change the shape (dimensions) of an array without changing Its data. This can be useful when you want to rearrange the way data is organized in an array, such as converting a 1-dimensional array inte a 2-dimensional matrix or vice versa, or changing the tle of a multi-dimensional array while saintaining the total number of elements."
   ]
  },
  {
   "cell_type": "code",
   "execution_count": 13,
   "metadata": {},
   "outputs": [
    {
     "name": "stdout",
     "output_type": "stream",
     "text": [
      "[79 78 55 84 86  1  1 85 94 21 54 94]\n",
      "[[79 78 55]\n",
      " [84 86  1]\n",
      " [ 1 85 94]\n",
      " [21 54 94]]\n",
      "Array values is  78\n",
      "Array values is  84\n",
      "(4, 3)\n",
      "[[79 78 55 84]\n",
      " [86  1  1 85]\n",
      " [94 21 54 94]]\n",
      "[[79 78 55 84 86  1]\n",
      " [ 1 85 94 21 54 94]]\n"
     ]
    }
   ],
   "source": [
    "import numpy as np\n",
    "arr=np.random.randint(0,100,12)\n",
    "\n",
    "print(arr)\n",
    "\n",
    "arr=arr.reshape(4,3)\n",
    "\n",
    "print(arr)\n",
    "\n",
    "print(\"Array values is \",arr[0][1])\n",
    "\n",
    "print(\"Array values is \",arr[1][0])\n",
    "\n",
    "print(arr.shape)\n",
    "\n",
    "arr=arr.reshape(-1,4)\n",
    "\n",
    "print(arr)\n",
    "\n",
    "arr=arr.reshape(2,-1)\n",
    "\n",
    "print(arr)"
   ]
  },
  {
   "cell_type": "code",
   "execution_count": 18,
   "metadata": {},
   "outputs": [
    {
     "name": "stdout",
     "output_type": "stream",
     "text": [
      "[37 86 87 18 90 69  8 53 33 32 40 26]\n"
     ]
    }
   ],
   "source": [
    "import numpy as np\n",
    "np.random.seed(145)\n",
    "arr=np.random.randint(0,100,12)\n",
    "print(arr)"
   ]
  },
  {
   "cell_type": "code",
   "execution_count": 23,
   "metadata": {},
   "outputs": [
    {
     "name": "stdout",
     "output_type": "stream",
     "text": [
      "[[341 365 469 213  87]\n",
      " [276 170 323 119 467]\n",
      " [297 456 442   8 269]\n",
      " [267 450 369 217 285]\n",
      " [271 419  22  55 201]\n",
      " [ 38 461 231 187 269]]\n"
     ]
    }
   ],
   "source": [
    "import numpy as np\n",
    "np.random.seed(111)\n",
    "arr=np.random.randint(1,500,30)\n",
    "arr=arr.reshape(6,5)\n",
    "print(arr)"
   ]
  },
  {
   "cell_type": "code",
   "execution_count": 24,
   "metadata": {},
   "outputs": [
    {
     "name": "stdout",
     "output_type": "stream",
     "text": [
      "[[442   8 269]\n",
      " [369 217 285]\n",
      " [ 22  55 201]\n",
      " [231 187 269]]\n"
     ]
    }
   ],
   "source": [
    "print(arr[2:,2:])"
   ]
  },
  {
   "cell_type": "code",
   "execution_count": 25,
   "metadata": {},
   "outputs": [
    {
     "name": "stdout",
     "output_type": "stream",
     "text": [
      "[[369 217]\n",
      " [ 22  55]]\n"
     ]
    }
   ],
   "source": [
    "print(arr[3:5,2:4])"
   ]
  },
  {
   "cell_type": "code",
   "execution_count": 27,
   "metadata": {},
   "outputs": [
    {
     "name": "stdout",
     "output_type": "stream",
     "text": [
      "new slicing [3 4 8 5 6]\n",
      "new array [   1   20    5    9    3    4    8    5    6    2   25    2 2265    3\n",
      "   33    1]\n",
      "<class 'numpy.ndarray'>\n",
      "<class 'numpy.ndarray'>\n",
      "old Slicing  [0 0 0 0 0]\n",
      "old array  [   1   20    5    9    0    0    0    0    0    2   25    2 2265    3\n",
      "   33    1]\n"
     ]
    }
   ],
   "source": [
    "import numpy as np\n",
    "arr=np.array([1,20,5,9,3,4,8,5,6,2,25,2,2265,3,33,1])\n",
    "slicing=arr[4:9]\n",
    "print(\"new slicing\",slicing)\n",
    "print(\"new array\",arr)\n",
    "print(type(slicing))\n",
    "print(type(arr))\n",
    "slicing[:]=0\n",
    "print(\"old Slicing \",slicing)\n",
    "print(\"old array \",arr)"
   ]
  },
  {
   "cell_type": "code",
   "execution_count": 28,
   "metadata": {},
   "outputs": [
    {
     "name": "stdout",
     "output_type": "stream",
     "text": [
      "[ 1  2  3  4  5  6  7  8  9 10 11 12 13 14]\n",
      "[ 1  3  5  7  9 11 13]\n"
     ]
    }
   ],
   "source": [
    "import numpy as np \n",
    "arr=np.arange(1,15)\n",
    "print(arr)\n",
    "print(arr[arr%2!=0])"
   ]
  },
  {
   "cell_type": "code",
   "execution_count": 29,
   "metadata": {},
   "outputs": [
    {
     "name": "stdout",
     "output_type": "stream",
     "text": [
      "[ 1  2  3  4  5  6  7  8  9 10 11 12 13 14]\n",
      "[ 2  4  6  8 10 12 14]\n",
      "[ 1  3  5  7  9 11 13]\n",
      "[ 9 10 11 12 13 14]\n",
      "[ 1  2  3  4  5  6  7  8  9 10 11 12 13 14]\n",
      "[3 4 5 6 7 8 9]\n",
      "[ 2  4  6  8 10 12 14]\n",
      "[ 1  4  9 16 25 36 49]\n"
     ]
    }
   ],
   "source": [
    "import numpy as np\n",
    "\n",
    "arr=np.arange(1,15)\n",
    "\n",
    "print(arr)\n",
    "\n",
    "print(arr[arr%2==0])\n",
    "\n",
    "print(arr[arr%2!=0])\n",
    "\n",
    "print(arr[arr>8])\n",
    "\n",
    "arr [arr%2==0]\n",
    "\n",
    "print(arr)\n",
    "\n",
    "arr=np.arange(1,8)\n",
    "\n",
    "print(arr+2)\n",
    "\n",
    "print(arr*2)\n",
    "\n",
    "print(arr**2)"
   ]
  },
  {
   "cell_type": "code",
   "execution_count": 31,
   "metadata": {},
   "outputs": [
    {
     "name": "stdout",
     "output_type": "stream",
     "text": [
      "6\n",
      "30\n",
      "4\n",
      "2\n",
      "[3.16227766 4.47213595 5.47722558 5.         2.44948974 4.58257569]\n",
      "[-0.54402111  0.91294525 -0.98803162 -0.13235175 -0.2794155   0.83665564]\n",
      "[-0.83907153  0.40808206  0.15425145  0.99120281  0.96017029 -0.54772926]\n"
     ]
    }
   ],
   "source": [
    "import numpy as n\n",
    "\n",
    "arr=n.array([10,20,30,25,6,21])\n",
    "\n",
    "print(n.min(arr))\n",
    "\n",
    "print(n.max(arr))\n",
    "\n",
    "print(n.argmin(arr))\n",
    "\n",
    "print(n.argmax(arr))\n",
    "\n",
    "print(n.sqrt(arr))\n",
    "\n",
    "print(n.sin(arr))\n",
    "\n",
    "print(n.cos(arr))"
   ]
  },
  {
   "cell_type": "code",
   "execution_count": 34,
   "metadata": {},
   "outputs": [
    {
     "name": "stdout",
     "output_type": "stream",
     "text": [
      "[[16 11 13]\n",
      " [17 13 16]\n",
      " [ 3 16 11]]\n",
      "116\n",
      "[ 16  27  40  57  70  86  89 105 116]\n",
      "3\n",
      "17\n",
      "---------\n",
      "[36 40 40]\n",
      "[ 3 11 11]\n",
      "[17 16 16]\n",
      "[[16 11 13]\n",
      " [33 24 29]\n",
      " [36 40 40]]\n"
     ]
    }
   ],
   "source": [
    "import numpy as np\n",
    "\n",
    "np.random.seed (122)\n",
    "\n",
    "mat=np.random.randint(1,21,9).reshape(3,3)\n",
    "\n",
    "print(mat)\n",
    "\n",
    "print(np.sum (mat))\n",
    "\n",
    "print (np.cumsum(mat))\n",
    "\n",
    "print(np.min (mat))\n",
    "\n",
    "print(np.max(mat))\n",
    "\n",
    "print(\"---------\")\n",
    "\n",
    "print(np.sum (mat, axis=0))\n",
    "\n",
    "print(np.min (mat,axis=0))\n",
    "\n",
    "print (np.max(mat,axis=0))\n",
    "\n",
    "print(np.cumsum(mat,axis=0))"
   ]
  },
  {
   "cell_type": "code",
   "execution_count": 35,
   "metadata": {},
   "outputs": [
    {
     "name": "stdout",
     "output_type": "stream",
     "text": [
      "[16 11 13 17 13 16  3 16 11 10]\n",
      "[13 16 16 11 16 10 11 13 17  3]\n",
      "(array([ 3, 10, 11, 13, 16, 17]), array([9, 5, 3, 0, 1, 8], dtype=int64), array([1, 1, 2, 2, 3, 1], dtype=int64))\n",
      "6\n"
     ]
    }
   ],
   "source": [
    "import numpy as np \n",
    "np.random.seed(122)\n",
    "mat=np.random.randint(1,21,10)\n",
    "print(mat)\n",
    "np.random.shuffle(mat)\n",
    "print(mat)\n",
    "print(np.unique(mat,return_index=True,return_counts=True))\n",
    "print(np.unique(mat).size)"
   ]
  },
  {
   "cell_type": "code",
   "execution_count": 1,
   "metadata": {},
   "outputs": [],
   "source": [
    "#26/7/2024"
   ]
  },
  {
   "cell_type": "code",
   "execution_count": 2,
   "metadata": {},
   "outputs": [
    {
     "name": "stdout",
     "output_type": "stream",
     "text": [
      "(array([3, 4], dtype=int64),)\n"
     ]
    }
   ],
   "source": [
    "import numpy as np\n",
    "arr=np.array([1,2,3,4,5])\n",
    "indicies=np.where(arr>3)\n",
    "print(indicies)"
   ]
  },
  {
   "cell_type": "code",
   "execution_count": 4,
   "metadata": {},
   "outputs": [
    {
     "name": "stdout",
     "output_type": "stream",
     "text": [
      "[[1 4]\n",
      " [2 5]\n",
      " [3 6]]\n"
     ]
    }
   ],
   "source": [
    "import numpy as np \n",
    "arr=np.array([[1,2,3],[4,5,6]])\n",
    "transposed_arr=np.transpose(arr)\n",
    "print(transposed_arr)"
   ]
  },
  {
   "cell_type": "code",
   "execution_count": 5,
   "metadata": {},
   "outputs": [
    {
     "name": "stdout",
     "output_type": "stream",
     "text": [
      "3.0\n"
     ]
    }
   ],
   "source": [
    "import numpy as np\n",
    "arr=np.array([1,2,3,4,5])\n",
    "mean_value=np.mean(arr)\n",
    "print(mean_value)"
   ]
  },
  {
   "cell_type": "code",
   "execution_count": 6,
   "metadata": {},
   "outputs": [
    {
     "name": "stdout",
     "output_type": "stream",
     "text": [
      "3.0\n"
     ]
    }
   ],
   "source": [
    "import numpy as np\n",
    "arr=np.array([1,2,3,4,5])\n",
    "median=np.median(arr)\n",
    "print(median)"
   ]
  },
  {
   "cell_type": "code",
   "execution_count": 10,
   "metadata": {},
   "outputs": [
    {
     "name": "stdout",
     "output_type": "stream",
     "text": [
      "index to insert 6: 3\n"
     ]
    }
   ],
   "source": [
    "import numpy as np\n",
    "sorted_array=np.array([1,3,5,7,9])\n",
    "index=np.searchsorted(sorted_array,6)\n",
    "print(\"index to insert 6:\",index)"
   ]
  },
  {
   "cell_type": "code",
   "execution_count": 11,
   "metadata": {},
   "outputs": [
    {
     "name": "stdout",
     "output_type": "stream",
     "text": [
      "[4 5]\n"
     ]
    }
   ],
   "source": [
    "import numpy as np \n",
    "arr=np.array([1,2,3,4,5])\n",
    "extracted_elements=np.extract(arr>3,arr)\n",
    "print(extracted_elements)"
   ]
  },
  {
   "cell_type": "code",
   "execution_count": 1,
   "metadata": {},
   "outputs": [],
   "source": [
    "# 29/7/2024"
   ]
  },
  {
   "cell_type": "code",
   "execution_count": 4,
   "metadata": {},
   "outputs": [
    {
     "name": "stdout",
     "output_type": "stream",
     "text": [
      "[1 2]\n",
      "[3 4]\n",
      "[5 6]\n"
     ]
    }
   ],
   "source": [
    "import numpy as np\n",
    "arr = np.array([1, 2, 3, 4, 5, 6])\n",
    "sub_arrays = np.split(arr, 3)\n",
    "for sub_arr in sub_arrays:\n",
    "    print(sub_arr)\n"
   ]
  },
  {
   "cell_type": "code",
   "execution_count": 7,
   "metadata": {},
   "outputs": [
    {
     "name": "stdout",
     "output_type": "stream",
     "text": [
      "Sorted array (ascending): [1 2 3 4 5]\n",
      "sorted_arr_desc: [5 4 3 2 1]\n"
     ]
    }
   ],
   "source": [
    "import numpy as np\n",
    "arr = np.array([3, 1, 2, 4, 5])\n",
    "sorted_arr = np.sort(arr)\n",
    "print(\"Sorted array (ascending):\", sorted_arr)\n",
    "sorted_arr_desc = np.sort(arr)[::-1]\n",
    "print(\"sorted_arr_desc:\",sorted_arr_desc)"
   ]
  },
  {
   "cell_type": "code",
   "execution_count": null,
   "metadata": {},
   "outputs": [],
   "source": []
  }
 ],
 "metadata": {
  "kernelspec": {
   "display_name": "Python 3",
   "language": "python",
   "name": "python3"
  },
  "language_info": {
   "codemirror_mode": {
    "name": "ipython",
    "version": 3
   },
   "file_extension": ".py",
   "mimetype": "text/x-python",
   "name": "python",
   "nbconvert_exporter": "python",
   "pygments_lexer": "ipython3",
   "version": "3.12.4"
  }
 },
 "nbformat": 4,
 "nbformat_minor": 2
}
